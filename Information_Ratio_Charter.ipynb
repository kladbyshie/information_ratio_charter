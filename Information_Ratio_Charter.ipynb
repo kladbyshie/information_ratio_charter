{
 "cells": [
  {
   "cell_type": "code",
   "execution_count": 25,
   "metadata": {},
   "outputs": [],
   "source": [
    "import pandas_datareader as dr\n",
    "import pandas as pd\n",
    "import numpy as np\n",
    "import datetime\n",
    "from bokeh.plotting import figure, output_file, show\n",
    "from bokeh.models import ColumnDataSource, LabelSet, HoverTool"
   ]
  },
  {
   "cell_type": "code",
   "execution_count": 28,
   "metadata": {
    "scrolled": false
   },
   "outputs": [],
   "source": [
    "#The following values can be changed in order to adjust what stocks/what dates are sourced; S&P500 is always sourced\n",
    "stocks=['FB','AAPL','GOOGL','MSFT']\n",
    "startdate='2019/01/01'\n",
    "enddate='2020/01/01'"
   ]
  },
  {
   "cell_type": "code",
   "execution_count": null,
   "metadata": {},
   "outputs": [],
   "source": [
    "#formulas that pull stocks and S&P500 from yahoo for given dates; note, runs slow (year worth of data for 4 stocks and 1 index)\n",
    "def form(startdate,enddate):\n",
    "    return(dr.DataReader(stocks,'yahoo',startdate,enddate)['Close'])\n",
    "\n",
    "def sp500(startdate,enddate):\n",
    "    return(dr.DataReader(\"^GSPC\",'yahoo',startdate,enddate))\n",
    "\n",
    "for item in stocks:\n",
    "    results=form(startdate,enddate)\n",
    "    \n",
    "sp500=sp500(startdate,enddate)"
   ]
  },
  {
   "cell_type": "code",
   "execution_count": null,
   "metadata": {},
   "outputs": [],
   "source": [
    "#accounts for count of dates selected in annual calculation\n",
    "num=len(results.index)\n",
    "annual_info_ratio=np.sqrt(num)\n",
    "\n",
    "#creates blank df and df2 dataframes with 'Value' placeholder index\n",
    "placeholder=['Value']\n",
    "df=pd.DataFrame(index=placeholder)\n",
    "df2=pd.DataFrame(index=placeholder)\n",
    "\n",
    "#populates df and df2 (which stores annual sharpe ratio values)\n",
    "sp500['Percent Change']=sp500['Close'].pct_change()\n",
    "for item in stocks:\n",
    "    results[f'{item} Percent Change']=results[item].pct_change()\n",
    "    results[f'{item} excess'] = results[f'{item} Percent Change'] - sp500['Percent Change']\n",
    "\n",
    "for item in stocks:\n",
    "    df[f'{item} avg_excess'] = results[f'{item} excess'].mean()\n",
    "    df[f'{item} sd_excess'] = results[f'{item} excess'].std()\n",
    "    df[f'{item} daily_info_ratio']=df[f'{item} avg_excess'] / df[f'{item} sd_excess']\n",
    "    df2[item]=df[f'{item} daily_info_ratio']*annual_info_ratio\n",
    "\n",
    "#makes df2 usable for Bokeh\n",
    "df2=df2.transpose()\n",
    "#creates a rounded dataframe (to 4 decimal values) for the labels\n",
    "df3=round(df2,4)"
   ]
  },
  {
   "cell_type": "code",
   "execution_count": null,
   "metadata": {},
   "outputs": [],
   "source": [
    "#generates bar graph, hover tools, and labels\n",
    "source = ColumnDataSource(data=dict(df2=df2['Value'],\n",
    "                                   stocks=stocks,\n",
    "                                   df3=df3['Value']))\n",
    "\n",
    "f = figure(x_range=stocks, title=\"Information Ratios\", toolbar_location='above', plot_width=400,plot_height=400)\n",
    "\n",
    "f.vbar(x='stocks',width=0.5,bottom=0,top='df2', color=\"firebrick\",source=source)\n",
    "\n",
    "labels = LabelSet(x='stocks', y='df2', text='df3', level='glyph',\n",
    "        x_offset=-23, y_offset=0, source=source, render_mode='canvas')\n",
    "\n",
    "hover=HoverTool(tooltips=[(\"Stock Name: \",\"@stocks\"),(\"Information Ratio: \",\"@df2\")])\n",
    "f.add_tools(hover) \n",
    "f.add_layout(labels)\n",
    "\n",
    "show(f)"
   ]
  }
 ],
 "metadata": {
  "kernelspec": {
   "display_name": "Python 3",
   "language": "python",
   "name": "python3"
  },
  "language_info": {
   "codemirror_mode": {
    "name": "ipython",
    "version": 3
   },
   "file_extension": ".py",
   "mimetype": "text/x-python",
   "name": "python",
   "nbconvert_exporter": "python",
   "pygments_lexer": "ipython3",
   "version": "3.7.4"
  }
 },
 "nbformat": 4,
 "nbformat_minor": 2
}
